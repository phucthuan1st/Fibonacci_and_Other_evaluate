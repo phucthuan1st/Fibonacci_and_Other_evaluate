{
 "cells": [
  {
   "cell_type": "markdown",
   "metadata": {},
   "source": [
    "# Thông tin \n",
    "- Họ tên: Nguyễn Phúc Thuần\n",
    "- MSSV: 20120380"
   ]
  },
  {
   "cell_type": "markdown",
   "metadata": {},
   "source": [
    "# Ghi chú:\n",
    "Các dữ liệu trong đề bao gồm n và mảng arr, trong đó:\n",
    "- n thuộc tập [5, 15, 25, 35, 40] đối với bài 1\n",
    "- n thuộc tập [10, 100, 1000, 10000, 100000] đối với bài 2\n",
    "- mảng arr được sinh ngẫu nhiên với $10^{-4} <= arr[i] <= 10^4$\n",
    "\n",
    "File utilities.h và utilities.cpp chứa một số hàm phụ trợ sinh số ngẫu nhiên và tạo mảng ngẫu nhiên"
   ]
  },
  {
   "cell_type": "markdown",
   "metadata": {},
   "source": [
    "# Bài làm"
   ]
  },
  {
   "cell_type": "markdown",
   "metadata": {},
   "source": [
    "## Bài 1 ý a và b\n",
    "Xem cài đặt bằng C++ trong file fibonacci.h và fibonacci.cpp\n",
    "\n",
    "Để chạy, cần compile file fibonacci.cpp và utilities.cpp\n",
    "\n",
    "Kết quả chạy có thể được tìm thấy trong file Fibo_Loop.csv và Fibo_Recursion.csv\n",
    "\n",
    "```\n",
    "g++ fibonacci.cpp utilities.cpp -o fibonacci ; ./fibonacci\n",
    "```"
   ]
  },
  {
   "cell_type": "markdown",
   "metadata": {},
   "source": [
    "## Bài 1 ý c\n",
    "### Ở câu a)\n",
    "Số phép so sánh là nghiệm của hệ sai phân tuyến tính: \n",
    "$\n",
    "\\begin{cases}\n",
    "u_0 = 1; u_1 = 1 \\\\\n",
    "u_n = u_{n-1} + u_{n - 2} + 1\n",
    "\\end{cases} \n",
    "$\n",
    "\n",
    "Xét phương trình đặc trưng: $t^2 = t + 1 \\Rightarrow t = \\dfrac{1 \\pm \\sqrt{5}}{2}$\n",
    "\n",
    "$\\Rightarrow$ nghiệm tổng quát $u^{*}_n = c_1 \\times \\left(\\dfrac{1 + \\sqrt{5}}{2}\\right)^n + c_2 \\times \\left(\\dfrac{1 - \\sqrt{5}}{2}\\right)^n$\n",
    "\n",
    "Nghiệm riêng $\\hat{u}_n = 1^n \\times d = d \\Rightarrow d = d + d + 1 \\Rightarrow d = -1$\n",
    "\n",
    "Vậy nghiệm tổng quát của hệ là: $u_n = c_1 \\times \\left(\\dfrac{1 + \\sqrt{5}}{2}\\right)^n + c_2 \\times \\left(\\dfrac{1 - \\sqrt{5}}{2}\\right)^n - 1$\n",
    "\n",
    "Thế lần lượt $u_0 = 1$ và $u_1 = 1$ vào ta thu được \n",
    "$\n",
    "\\begin{cases}\n",
    "c_1 + c_2 = 2 \\\\\n",
    "c_1 \\times \\left(\\dfrac{1 + \\sqrt{5}}{2}\\right) + c_2 \\times \\left(\\dfrac{1 - \\sqrt{5}}{2}\\right) = 2\n",
    "\\end{cases}\n",
    "$\n",
    "$\n",
    "\\Rightarrow \n",
    "\\begin{cases}\n",
    "c_1 = \\dfrac{5 + \\sqrt{5}}{5}\\\\\n",
    "c_2 = \\dfrac{5 - \\sqrt{5}}{5}\n",
    "\\end{cases}\n",
    "$\n",
    "\n",
    "$\\Rightarrow u_n = \\dfrac{5 + \\sqrt{5}}{5} \\times \\left(\\dfrac{1 + \\sqrt{5}}{2}\\right)^n + \\dfrac{5 - \\sqrt{5}}{5} \\times \\left(\\dfrac{1 - \\sqrt{5}}{2}\\right)^n - 1\n",
    "$\n",
    "\n",
    "Hình ảnh phân tích: [Fibonacci with recursion](https://github.com/phucthuan1st/Fibonacci_and_Other_evaluate/blob/main/Image/fiborecu.png)"
   ]
  },
  {
   "cell_type": "markdown",
   "metadata": {},
   "source": [
    "### Ở câu b)\n",
    "Số phép gán là: $3 + \\text{số lần gán i của vòng lặp} + \\text{số phép gán của vòng lặp} = 3 + n + 3 \\times (n-1) = 4n$ đúng so với thực nghiệm\n",
    "\n",
    "Hình ảnh phân tích: [Fibonacci with loop](https://github.com/phucthuan1st/Fibonacci_and_Other_evaluate/blob/main/Image/fiboloop.png)"
   ]
  },
  {
   "cell_type": "markdown",
   "metadata": {},
   "source": [
    "## Bài 2\n",
    "### a)\n",
    "Thuật toán $O(n^2)$:\n",
    "\n",
    "(xem cài đặt bằng C++ trên file unique_value.cpp)\n",
    "\n",
    "- B1: Khởi tạo danh sách unique_value rỗng\n",
    "- B2: $i \\leftarrow 0$\n",
    "- B3: $isDup \\leftarrow false$\n",
    "- B4: nếu $a[i]$ tồn tại trong $\\text{unique value list}$ thì $isDup \\rightarrow true$\n",
    "- B5: nếu $isDup = false$ thì thêm $a[i]$ vào $\\text{unique value list}$\n",
    "- B6: Nếu $i < n$ thì $i\\leftarrow i+1$, quay lại B3, ngược lại trả về $\\text{unique value list}$ kết thúc\n",
    "\n",
    "Thuật toán trên sẽ phụ thuộc vào giá trị n, và số lần gán và số lần so sánh phụ thuộc vào số phần tử trùng nhau trong mảng\n",
    "\n",
    "Để chạy, ta cần compile file unique_value.cpp và file utilities.cpp: \n",
    "```\n",
    "g++ unique_value.cpp utilities.cpp -o unique_value ; ./unique_value\n",
    "```\n",
    "\n",
    "Kết quả chạy có thể được tìm thấy tại file Unique_Value.csv"
   ]
  },
  {
   "cell_type": "code",
   "execution_count": null,
   "metadata": {},
   "outputs": [],
   "source": [
    "# Minh họa trên Python:\n",
    "from random import randint\n",
    "\n",
    "def unique_values(array):\n",
    "    unique_value_list = []\n",
    "    \n",
    "    for value in array:\n",
    "        isDup = False\n",
    "        \n",
    "        if value in unique_value_list:\n",
    "            isDup = True\n",
    "            \n",
    "        if not isDup:\n",
    "            unique_value_list.append(value)\n",
    "    \n",
    "    return unique_value_list\n",
    "   \n",
    "array = [randint(-10000, 10000) for value in range(200)]\n",
    "\n",
    "unique_value_list = unique_values(array) \n",
    "print(\"\\nnumber of unique element =\",len(unique_value_list))"
   ]
  },
  {
   "cell_type": "markdown",
   "metadata": {},
   "source": [
    "### b)\n",
    "Thuật toán $O(n)$: sử dụng thuật toán Kadane:\n",
    "\n",
    "(xem cài đặt bằng C++ trên file sub_array.cpp)\n",
    "\n",
    "- Khởi tạo: \n",
    "    - $best = \\text{INT MIN}$\n",
    "    - $maxSum = 0$\n",
    "- Với mỗi phần tử a[i] $(0 <= i < n)$ của mảng:\n",
    "    - B1: $maxSum \\leftarrow max(maxSum + a[i], a[i])$\n",
    "    - B2: $best \\leftarrow max(best, maxSum)$\n",
    "- Trả về giá trị best\n",
    "\n",
    "Với thuật toán Kadane:\n",
    "- Số phép gán: $3n + 3$\n",
    "- Số phép so sánh: $3n + 1$\n",
    "\n",
    "Để chạy, cần compile file sub_array.cpp và utilities.cpp:\n",
    "```\n",
    "g++ sub_array.cpp utilities.cpp -o sub_array ; ./sub_array\n",
    "```\n"
   ]
  },
  {
   "cell_type": "code",
   "execution_count": null,
   "metadata": {},
   "outputs": [],
   "source": [
    "# Minh họa trên Python\n",
    "\n",
    "def maxOfSubArray(arr): \n",
    "    best = -2147483648 #INT MIN\n",
    "    sum = 0\n",
    "    \n",
    "    for element in arr:\n",
    "        sum = max(sum, sum + element)\n",
    "        best = max(best, sum)\n",
    "        \n",
    "    return best\n",
    "\n",
    "n = 100000\n",
    "arr = (randint(-10000, 10000) for i in range(n))\n",
    "\n",
    "best = maxOfSubArray(arr)\n",
    "\n",
    "print(f\"With n = {n}, and an array generate randomly the max of sub array is {best}\")\n",
    "   "
   ]
  }
 ],
 "metadata": {
  "kernelspec": {
   "display_name": "Python 3.9.0 64-bit",
   "language": "python",
   "name": "python3"
  },
  "language_info": {
   "codemirror_mode": {
    "name": "ipython",
    "version": 3
   },
   "file_extension": ".py",
   "mimetype": "text/x-python",
   "name": "python",
   "nbconvert_exporter": "python",
   "pygments_lexer": "ipython3",
   "version": "3.9.0"
  },
  "orig_nbformat": 4,
  "vscode": {
   "interpreter": {
    "hash": "ff1200cc413885a26299d5081e03f20b97b392fc1baa637c4818e9e43d99bbec"
   }
  }
 },
 "nbformat": 4,
 "nbformat_minor": 2
}
