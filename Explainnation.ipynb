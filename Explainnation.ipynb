{
 "cells": [
  {
   "cell_type": "markdown",
   "metadata": {},
   "source": [
    "# Thông tin \n",
    "- Họ tên: Nguyễn Phúc Thuần\n",
    "- MSSV: 20120380"
   ]
  },
  {
   "cell_type": "markdown",
   "metadata": {},
   "source": [
    "# Ghi chú:\n",
    "Các dữ liệu trong đề bao gồm n và mảng arr, trong đó:\n",
    "- n thuộc tập [5, 15, 25, 35, 40] đối với bài 1\n",
    "- n thuộc tập [10, 100, 1000, 10000, 100000] đối với bài 2\n",
    "- mảng arr được sinh ngẫu nhiên với $10^{-4} <= arr[i] <= 10^4$\n",
    "\n",
    "File utilities.h và utilities.cpp chứa một số hàm phụ trợ sinh số ngẫu nhiên và tạo mảng ngẫu nhiên"
   ]
  },
  {
   "cell_type": "markdown",
   "metadata": {},
   "source": [
    "# Bài làm"
   ]
  },
  {
   "cell_type": "markdown",
   "metadata": {},
   "source": [
    "## Bài 1 ý a và b\n",
    "Xem trong file fibonacci.h và fibonacci.cpp\n",
    "\n",
    "Để chạy, cần compile file fibonacci.cpp và utilities.cpp\n",
    "\n",
    "```\n",
    "g++ fibonacci.cpp utilities.cpp -o fibonacci ; ./fibonacci\n",
    "```"
   ]
  },
  {
   "cell_type": "markdown",
   "metadata": {},
   "source": [
    "## Bài 1 ý c\n",
    "### Ở câu a)\n",
    "Số phép so sánh là nghiệm của hệ sai phân tuyến tính: \n",
    "$\n",
    "\\begin{cases}\n",
    "u_0 = 1; u_1 = 1 \\\\\n",
    "u_n = u_{n-1} + u_{n - 2} + 1\n",
    "\\end{cases} \n",
    "$\n",
    "\n",
    "Xét phương trình đặc trưng: $t^2 = t + 1 \\Rightarrow t = \\dfrac{1 \\pm \\sqrt{5}}{2}$\n",
    "\n",
    "$\\Rightarrow$ nghiệm tổng quát $u^{*}_n = c_1 \\times \\left(\\dfrac{1 + \\sqrt{5}}{2}\\right)^n + c_2 \\times \\left(\\dfrac{1 - \\sqrt{5}}{2}\\right)^n$\n",
    "\n",
    "Nghiệm riêng $\\hat{u}_n = 1^n \\times d = d \\Rightarrow d = d + d + 1 \\Rightarrow d = -1$\n",
    "\n",
    "Vậy nghiệm tổng quát của hệ là: $u_n = c_1 \\times \\left(\\dfrac{1 + \\sqrt{5}}{2}\\right)^n + c_2 \\times \\left(\\dfrac{1 - \\sqrt{5}}{2}\\right)^n - 1$\n",
    "\n",
    "Thế lần lượt $u_0 = 1$ và $u_1 = 1$ vào ta thu được \n",
    "$\n",
    "\\begin{cases}\n",
    "c_1 + c_2 = 2 \\\\\n",
    "c_1 \\times \\left(\\dfrac{1 + \\sqrt{5}}{2}\\right) + c_2 \\times \\left(\\dfrac{1 - \\sqrt{5}}{2}\\right) = 2\n",
    "\\end{cases}\n",
    "$\n",
    "$\n",
    "\\Rightarrow \n",
    "\\begin{cases}\n",
    "c_1 = \\dfrac{5 + \\sqrt{5}}{5}\\\\\n",
    "c_2 = \\dfrac{5 - \\sqrt{5}}{5}\n",
    "\\end{cases}\n",
    "$\n",
    "\n",
    "$\\Rightarrow u_n = \\dfrac{5 + \\sqrt{5}}{5} \\times \\left(\\dfrac{1 + \\sqrt{5}}{2}\\right)^n + \\dfrac{5 - \\sqrt{5}}{5} \\times \\left(\\dfrac{1 - \\sqrt{5}}{2}\\right)^n - 1\n",
    "$"
   ]
  },
  {
   "cell_type": "markdown",
   "metadata": {},
   "source": [
    "### Ở câu b)\n",
    "Số phép gán là: $3 + \\text{số lần gán i của vòng lặp} + \\text{số phép gán của vòng lặp} = 3 + n + 3 \\times (n-1) = 4n$ đúng so với thực nghiệm"
   ]
  },
  {
   "cell_type": "markdown",
   "metadata": {},
   "source": [
    "## Bài 2\n",
    "### a)\n",
    "Thuật toán $O(n^2)$:\n",
    "\n",
    "- B1: Khởi tạo danh sách unique_value rỗng\n",
    "- B2: $i \\leftarrow 0$\n",
    "- B3: $isDup \\leftarrow false$\n",
    "- B4: nếu $a[i]$ tồn tại trong $\\text{unique value list}$ thì $isDup \\rightarrow true$\n",
    "- B5: nếu $isDup = false$ thì thêm $a[i]$ vào $\\text{unique value list}$\n",
    "- B6: Nếu $i < n$ thì $i\\leftarrow i+1$, quay lại B3, ngược lại trả về $\\text{unique value list}$ kết thúc\n",
    "\n",
    "Thuật toán trên sẽ phụ thuộc vào giá trị n, và số lần gán và số lần so sánh phụ thuộc vào số phần tử trùng nhau trong mảng\n",
    "\n",
    "Để chạy, ta cần compile file unique_value.cpp và file utilities.cpp: \n",
    "```\n",
    "g++ unique_value.cpp utilities.cpp -o unique_value ; ./unique_value\n",
    "```"
   ]
  },
  {
   "cell_type": "code",
   "execution_count": 4,
   "metadata": {},
   "outputs": [
    {
     "name": "stdout",
     "output_type": "stream",
     "text": [
      "[-9135, 5680, -6247, 7377, -8041, 8576, 3168, -175, 9371, 4731, 8859, -3951, 5240, 4456, -7395, -9475, -43, 690, 3811, 9575, -2698, -2766, 2365, 8275, -7541, -8008, -8695, 4560, 1323, -2634, -5577, -1037, 4321, 8781, 7385, -5867, -2133, 3403, 5828, 1091, -674, -9398, -4038, -3620, -3347, 431, -111, -2222, -2981, -1278, -224, -600, -8739, -8277, -5866, 494, 8436, 6222, 5318, 4322, 6732, 1644, 2120, 9340, 401, 92, 1875, -8923, -376, -2014, 8132, -3492, 3474, 5859, 8567, 8961, 9690, -6469, -9098, -3193, -4366, -8779, -8773, 7418, -6625, 9390, -3616, -473, 1207, -2111, -695, 1860, 5801, -1166, 678, -8640, -2206, 3743, -5108, 9453, 8601, 2755, 9697, -4782, -1566, -5885, 4267, -1034, -353, -5291, 6504, 1919, 5768, -8651, 3861, 3886, -8133, 161, 33, -5321, -3686, 8993, -4156, 8403, 4462, 2625, 9182, 6763, -4097, -3769, 1896, -1569, 8892, -2049, -6211, 9964, -9625, 2797, 3414, -3845, -243, -5640, 4155, -715, -4920, 4369, -1406, 2973, 6542, -6692, -5157, -4736, -2789, 7003, -820, 5745, -6172, -2096, -5410, 7952, 7416, 4307, 3796, -3307, 130, -57, 4510, -2755, 6054, 8050, 6190, -3302, -9525, -1680, 186, 5233, 8229, -9660, 3994, -2704, 3885, -4956, -5402, -3091, 2132, 1293, 5805, 6885, -843, 2922, -5695, 2461, -6414, 731, -1896, 7932, 4092, -4191, 8782, -2440, 8113, 6378, -5117, 6123, -7447, -3823, 2045, -3229, -7383, -1806, -784, 8404, 2649, 9781, -1597, 6918, -1138, 2624, -9790, 2983, -8157, 1937, -586, 4969, -7975, 9422, 7274, -1342, -6861, 6056, -5223, 3597, -7209, 2918, -3412, 3442, 767, 7044, -2387, -3755, -8618, -4204, 8664, -6920, 7189, 2489, 7106, 3111, 6540, 4513, 2685, -5255, 5940, 5785, -2686, 7845, -6730, -4688, -7837, -336, 9377, 5726, -4100, -9744, -9457, 8199, -6201, -4626, 8706, 2457, 8956, 8428, 841, 9807, 1289, 3841, -6694, 2420, -3801, 1155, 6970, -1599, 1980, -3824, 7752, -4102, -3878, -7713, 8981, -629, -5154, 8845, -3448, 8474, -4924, -1163, 6839, -3757, -2962, -4902, 5971, -7871, 3794, -8378, -2837, 775, -6396, -2034, 734, -1030, -569, 8700, -1486, -5611, 5371, -8260, -2302, -9611, -8881, 2008, -4379, 1398, 9241, 4070, -7697, -8076, 5620, 5040, 4772, 8611, 23, -7372, 8477, 7504, -9900, 5164, 8369, -5530, -4229, 8240, 3621, 8544, 5263, -7314, -3075, 9047, -3611, -2887, -3364, -4528, 66, 2967, -3015, 4811, -8794, -1811, 8616, 5741, 6087, 1199, 8045, -7524, 1815, -8442, 2595, -4501, -8527, -6822, -1276, 9080, 5566, -263, -1518, -3586, -404, 338, 1117, -7080, -3895, -968, -3284, -4816, 8022, -499, 713, 5446, 8183, -5539, 2455, 5103, 5583, -1894, 1998, 3096, 9913, -3433, 5323, -4944, -9721, -9753, 6430, 9318, -6799, -1677, 8681, 7716, -3027, 7578, 8649, 1209, 6534, 8545, -7491, -776, 2995, 3292, -4103, 1167, 4432, 4606, 7291, 2454, -2989, -3085, 1214, 9416, 5258, 7700, -1104, 4331, -2784, 7311, -3653, -8444, 9735, -3199, 9521, -8319, 5309, 7736, -5862, 3783, -726, 7753, 9432, 8541, 3055, -7485, -3031, 2990, 4345, 8780, 1175, -1133, 8899, -1407, -3487, 4400, -7929, -2913, -366, -8251, -2252, 1044, -7110, -9380, -1182, -3561, -668, -6250, 3904, -8924, -7120, 837, 9376, 9938, -9469, -386, -327, 8731, 3123, 1419, -8299, -8043, 3607, 2125, -1638, 4936, 481, -7193, 885, -3072, -4200, -6192, 1105] \n",
      "number of unique element =  495\n"
     ]
    }
   ],
   "source": [
    "# Minh họa trên Python:\n",
    "from random import randint\n",
    "\n",
    "def unique_values(array):\n",
    "    unique_value_list = []\n",
    "    \n",
    "    for value in array:\n",
    "        isDup = False\n",
    "        \n",
    "        if value in unique_value_list:\n",
    "            isDup = True\n",
    "            \n",
    "        if not isDup:\n",
    "            unique_value_list.append(value)\n",
    "    \n",
    "    return unique_value_list\n",
    "   \n",
    "array = [randint(-10000, 10000) for value in range(500)]\n",
    "\n",
    "unique_value_list = unique_values(array) \n",
    "print(unique_value_list, \"\\nnumber of unique element = \",len(unique_value_list))"
   ]
  },
  {
   "cell_type": "markdown",
   "metadata": {},
   "source": [
    "### b)\n",
    "Thuật toán $O(n)$: sử dụng thuật toán Kadane:\n",
    "- Khởi tạo: \n",
    "    - $best = \\text{INT MIN}$\n",
    "    - $maxSum = 0$\n",
    "- Với mỗi phần tử a[i] $(0 <= i < n)$ của mảng:\n",
    "    - B1: $maxSum \\leftarrow max(maxSum + a[i], a[i])$\n",
    "    - B2: $best \\leftarrow max(best, maxSum)$\n",
    "- Trả về giá trị best\n",
    "\n",
    "Với thuật toán Kadane:\n",
    "- Số phép gán: $3n + 2$\n",
    "- Số phép so sánh: $3n + 1$\n",
    "\n",
    "Để chạy, cần compile file sub_array.cpp và utilities.cpp:\n",
    "```\n",
    "g++ unique_value.cpp utilities.cpp -o unique_value ; ./unique_value\n",
    "```\n"
   ]
  },
  {
   "cell_type": "code",
   "execution_count": 5,
   "metadata": {},
   "outputs": [
    {
     "name": "stdout",
     "output_type": "stream",
     "text": [
      "With n = 100000, and an array generate randomly the max of sub array is 249601051\n"
     ]
    }
   ],
   "source": [
    "# Minh họa trên Python\n",
    "\n",
    "def maxOfSubArray(arr): \n",
    "    best = -2147483648 #INT MIN\n",
    "    sum = 0\n",
    "    \n",
    "    for element in arr:\n",
    "        sum = max(sum, sum + element)\n",
    "        best = max(best, sum)\n",
    "        \n",
    "    return best\n",
    "\n",
    "n = 100000\n",
    "arr = (randint(-10000, 10000) for i in range(n))\n",
    "\n",
    "best = maxOfSubArray(arr)\n",
    "\n",
    "print(f\"With n = {n}, and an array generate randomly the max of sub array is {best}\")\n",
    "   "
   ]
  }
 ],
 "metadata": {
  "kernelspec": {
   "display_name": "Python 3.9.0 64-bit",
   "language": "python",
   "name": "python3"
  },
  "language_info": {
   "codemirror_mode": {
    "name": "ipython",
    "version": 3
   },
   "file_extension": ".py",
   "mimetype": "text/x-python",
   "name": "python",
   "nbconvert_exporter": "python",
   "pygments_lexer": "ipython3",
   "version": "3.9.0"
  },
  "orig_nbformat": 4,
  "vscode": {
   "interpreter": {
    "hash": "ff1200cc413885a26299d5081e03f20b97b392fc1baa637c4818e9e43d99bbec"
   }
  }
 },
 "nbformat": 4,
 "nbformat_minor": 2
}
